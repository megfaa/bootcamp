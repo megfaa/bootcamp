{
 "cells": [
  {
   "cell_type": "code",
   "execution_count": null,
   "id": "20790915",
   "metadata": {},
   "outputs": [
    {
     "name": "stdout",
     "output_type": "stream",
     "text": [
      "Your age is twenty\n",
      "Please put a number in!\n"
     ]
    }
   ],
   "source": [
    "#Challenge 4: Updating variables\n",
    "try:\n",
    "    #Putting in the variable (string)\n",
    "    age_input=input(\"Enter your age: \")\n",
    "    #Printing age that we inputted\n",
    "    print(\"Your age is {}\".format(age_input))\n",
    "    #Change string varible to numbers\n",
    "    new_age_input=int(age_input)\n",
    "    #Printing new age +5\n",
    "    print(\"Your new age is {}+5={}\".format(new_age_input, new_age_input+5))\n",
    "    #This is print an error if the user does not put in a number\n",
    "except:\n",
    "    print(\"Please put a number in!\")"
   ]
  }
 ],
 "metadata": {
  "kernelspec": {
   "display_name": "bootcamp",
   "language": "python",
   "name": "python3"
  },
  "language_info": {
   "codemirror_mode": {
    "name": "ipython",
    "version": 3
   },
   "file_extension": ".py",
   "mimetype": "text/x-python",
   "name": "python",
   "nbconvert_exporter": "python",
   "pygments_lexer": "ipython3",
   "version": "3.12.9"
  }
 },
 "nbformat": 4,
 "nbformat_minor": 5
}
