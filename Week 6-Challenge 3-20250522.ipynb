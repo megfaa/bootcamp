{
 "cells": [
  {
   "cell_type": "markdown",
   "id": "a7ac463f",
   "metadata": {},
   "source": [
    "Challenge 3: Function with Default Parameters"
   ]
  },
  {
   "cell_type": "code",
   "execution_count": null,
   "id": "d9c86359",
   "metadata": {},
   "outputs": [
    {
     "name": "stdout",
     "output_type": "stream",
     "text": [
      "Hi, Megan!\n",
      "Hello, Megan!\n",
      " Megan!\n"
     ]
    }
   ],
   "source": [
    "#define the function with a default parameter\n",
    "def greet_with_default (name, greeting=\"Hello,\"):\n",
    "    print(f\"{greeting} {name}!\")\n",
    "\n",
    "#call the function with both parameters\n",
    "greet_with_default(\"Megan\", \"Hi,\")\n",
    "\n",
    "#call the function with only the name (uses default greeting)\n",
    "greet_with_default(\"Megan\")\n",
    "\n",
    "#call the function with only the name\n",
    "greet_with_default(\"Megan\", \"\")"
   ]
  },
  {
   "cell_type": "markdown",
   "id": "6829fee9",
   "metadata": {},
   "source": [
    "Challenge 5: Recursive Function"
   ]
  },
  {
   "cell_type": "code",
   "execution_count": null,
   "id": "08caa04c",
   "metadata": {},
   "outputs": [
    {
     "ename": "ValueError",
     "evalue": "invalid literal for int() with base 10: ''",
     "output_type": "error",
     "traceback": [
      "\u001b[1;31m---------------------------------------------------------------------------\u001b[0m",
      "\u001b[1;31mValueError\u001b[0m                                Traceback (most recent call last)",
      "Cell \u001b[1;32mIn[30], line 8\u001b[0m\n\u001b[0;32m      6\u001b[0m         \u001b[38;5;28;01mreturn\u001b[39;00m n\u001b[38;5;241m*\u001b[39mfactorial(n\u001b[38;5;241m-\u001b[39m\u001b[38;5;241m1\u001b[39m)\n\u001b[0;32m      7\u001b[0m \u001b[38;5;66;03m#prompt the user for input\u001b[39;00m\n\u001b[1;32m----> 8\u001b[0m num\u001b[38;5;241m=\u001b[39m\u001b[38;5;28mint\u001b[39m(\u001b[38;5;28minput\u001b[39m(\u001b[38;5;124m\"\u001b[39m\u001b[38;5;124mEnter a non-negative interger: \u001b[39m\u001b[38;5;124m\"\u001b[39m))\n\u001b[0;32m      9\u001b[0m \u001b[38;5;66;03m#check for non-negative input\u001b[39;00m\n\u001b[0;32m     10\u001b[0m \u001b[38;5;28;01mif\u001b[39;00m num\u001b[38;5;241m<\u001b[39m\u001b[38;5;241m0\u001b[39m:\n",
      "\u001b[1;31mValueError\u001b[0m: invalid literal for int() with base 10: ''"
     ]
    }
   ],
   "source": [
    "#define the recursive factorial function\n",
    "def factorial(n):\n",
    "    if n==0 or n==1:\n",
    "        return 1\n",
    "    else:\n",
    "        return n*factorial(n-1)\n",
    "#prompt the user for input\n",
    "num=int(input(\"Enter a non-negative interger: \"))\n",
    "#check for non-negative input\n",
    "if num<0:\n",
    "    print(\"Factorial is not defined for negative numbers.\")\n",
    "else:\n",
    "    result = factorial(num)\n",
    "    print(f\"The factorial of {num} is {result}\")\n",
    "\n",
    "#there is a code to help exceed the recursion limit"
   ]
  },
  {
   "cell_type": "code",
   "execution_count": null,
   "id": "bac673b7",
   "metadata": {},
   "outputs": [],
   "source": [
    "def factorial(n):\n",
    "    if n<=1: #if n is 1 or 0, return 1\n",
    "        return 1\n",
    "    else: #recursive function to call factorial for n-1\n",
    "        return n*factorial(n-1)\n",
    "    \n",
    "try:\n",
    "    num=int(input(\"Enter a positive interger to calculate its factorial: \")) #prompt user to input a number and convert the string\n",
    "    if num<0:\n",
    "        print(\"Factorial is not defind for negative numbers.\")\n",
    "    else:\n",
    "        print(f\"The factorial\")"
   ]
  },
  {
   "cell_type": "code",
   "execution_count": null,
   "id": "70954bca",
   "metadata": {},
   "outputs": [],
   "source": [
    "def adder(t1,t2):\n",
    "    result=t1+t2\n",
    "    return (result)"
   ]
  },
  {
   "cell_type": "markdown",
   "id": "b7f1005f",
   "metadata": {},
   "source": [
    "Challenge 4: Function with Arbitary Arguments"
   ]
  },
  {
   "cell_type": "code",
   "execution_count": 28,
   "id": "5c66ec93",
   "metadata": {},
   "outputs": [
    {
     "name": "stdout",
     "output_type": "stream",
     "text": [
      "The average value for the [6.0, 7.0, 9.0, 10.0, 2.0, 1.0, 23.0] list is 8.285714285714286\n"
     ]
    }
   ],
   "source": [
    "def calculate_average(*args):\n",
    "#calculate and return the average of the provided numbers\n",
    "    if not args:\n",
    "        return 0\n",
    "    return sum(args)/len(args)\n",
    "\n",
    "#prompt use to enter numbers separated by spaces\n",
    "user_input=input(\"Enter numbers separated by spaces: \")\n",
    "\n",
    "#convert the input into a list of intergers\n",
    "numbers=list(map(float, user_input.split()))\n",
    "\n",
    "#print the result\n",
    "print(\"The average value for the {} list is {}\".format(numbers,calculate_average(*numbers)))"
   ]
  }
 ],
 "metadata": {
  "kernelspec": {
   "display_name": "bootcamp",
   "language": "python",
   "name": "python3"
  },
  "language_info": {
   "codemirror_mode": {
    "name": "ipython",
    "version": 3
   },
   "file_extension": ".py",
   "mimetype": "text/x-python",
   "name": "python",
   "nbconvert_exporter": "python",
   "pygments_lexer": "ipython3",
   "version": "3.12.9"
  }
 },
 "nbformat": 4,
 "nbformat_minor": 5
}
