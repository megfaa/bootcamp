{
 "cells": [
  {
   "cell_type": "markdown",
   "id": "7a8ce6c1",
   "metadata": {},
   "source": [
    "Challenge 1: Sum of Numbers"
   ]
  },
  {
   "cell_type": "code",
   "execution_count": null,
   "id": "45c00e33",
   "metadata": {},
   "outputs": [
    {
     "name": "stdout",
     "output_type": "stream",
     "text": [
      "You have entered: 10\n",
      "Your next number is: 1\n",
      "Your next number is: 10\n",
      "Your next number is: 10\n",
      "Your next number is: 1\n",
      "Your next number is: 30\n",
      "Your next number is: 10\n",
      "Your next number is: 20\n",
      "Your next number is: 30\n",
      "Your next number is: 10\n",
      "Error! Please enter whole numbers only.\n"
     ]
    },
    {
     "ename": "",
     "evalue": "",
     "output_type": "error",
     "traceback": [
      "\u001b[1;31mThe Kernel crashed while executing code in the current cell or a previous cell. \n",
      "\u001b[1;31mPlease review the code in the cell(s) to identify a possible cause of the failure. \n",
      "\u001b[1;31mClick <a href='https://aka.ms/vscodeJupyterKernelCrash'>here</a> for more info. \n",
      "\u001b[1;31mView Jupyter <a href='command:jupyter.viewOutput'>log</a> for further details."
     ]
    }
   ],
   "source": [
    "#Initialise list\n",
    "\n",
    "#Prompting user to enter number to include in summation\n",
    "try:\n",
    "    num_1=int(input(\"Enter the number of elements to sum: \"))\n",
    "    print(\"You have entered: {}\".format(num_1))\n",
    "#Initialise the sum variable\n",
    "    total_sum=0\n",
    "#Use a loop to collect numbers and calculate the sum\n",
    "    for i in range(num_1):\n",
    "        num_2=int(input(\"Enter number: {}\".format(i+1)))\n",
    "        total_sum+=num_2\n",
    "        print(\"Your next number is: {}\".format(num_2))\n",
    "#Print the total sum\n",
    "    print(\"Your total is: {}\". format(total_sum))\n",
    "except:\n",
    "    print(\"Error! Please enter whole numbers only.\")\n",
    "    exit()"
   ]
  },
  {
   "cell_type": "markdown",
   "id": "411154a6",
   "metadata": {},
   "source": [
    "Challenge 3: Factorial Calculator"
   ]
  },
  {
   "cell_type": "code",
   "execution_count": null,
   "id": "f7fe2cbe",
   "metadata": {},
   "outputs": [],
   "source": []
  }
 ],
 "metadata": {
  "kernelspec": {
   "display_name": "bootcamp",
   "language": "python",
   "name": "python3"
  },
  "language_info": {
   "codemirror_mode": {
    "name": "ipython",
    "version": 3
   },
   "file_extension": ".py",
   "mimetype": "text/x-python",
   "name": "python",
   "nbconvert_exporter": "python",
   "pygments_lexer": "ipython3",
   "version": "3.12.9"
  }
 },
 "nbformat": 4,
 "nbformat_minor": 5
}
