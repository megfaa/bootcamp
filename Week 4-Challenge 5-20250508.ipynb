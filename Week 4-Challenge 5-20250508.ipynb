{
 "cells": [
  {
   "cell_type": "code",
   "execution_count": 3,
   "id": "9ea3265d",
   "metadata": {},
   "outputs": [
    {
     "name": "stdout",
     "output_type": "stream",
     "text": [
      "Invalid input. Please enter a valid number.\n"
     ]
    }
   ],
   "source": [
    "#Challenge 5: Conditional with Error Handling\n",
    "\n",
    "try:\n",
    "#prompt the user to enter their age and print it\n",
    "    age_input=int(input(\"Enter your age: \"))\n",
    "    print(\"Your age is {}.\".format(age_input))\n",
    "#check if the entered age is an integer\n",
    "    if type(age_input)==int:\n",
    "        print(\"Valid input.\")\n",
    "#check is enter age is between 0 and 120, else print error message\n",
    "        if 0<=age_input<=120:\n",
    "            print(\"Valid age.\")\n",
    "        else:\n",
    "            print(\"Age is out of range.\")\n",
    "#print an error message if the age is not an interger\n",
    "except:\n",
    "    print(\"Invalid input. Please enter a valid number.\")"
   ]
  }
 ],
 "metadata": {
  "kernelspec": {
   "display_name": "bootcamp",
   "language": "python",
   "name": "python3"
  },
  "language_info": {
   "codemirror_mode": {
    "name": "ipython",
    "version": 3
   },
   "file_extension": ".py",
   "mimetype": "text/x-python",
   "name": "python",
   "nbconvert_exporter": "python",
   "pygments_lexer": "ipython3",
   "version": "3.12.9"
  }
 },
 "nbformat": 4,
 "nbformat_minor": 5
}
