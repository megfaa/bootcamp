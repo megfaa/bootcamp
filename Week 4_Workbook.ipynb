{
 "cells": [
  {
   "cell_type": "markdown",
   "id": "0ea22929",
   "metadata": {},
   "source": [
    "Lists"
   ]
  },
  {
   "cell_type": "code",
   "execution_count": 1,
   "id": "b5f55ff8",
   "metadata": {},
   "outputs": [
    {
     "name": "stdout",
     "output_type": "stream",
     "text": [
      "[5, 10, 15.2, 20]\n"
     ]
    }
   ],
   "source": [
    "#declaring a list of numbers\n",
    "nums = [5,10,15.2,20]\n",
    "print(nums)"
   ]
  },
  {
   "cell_type": "code",
   "execution_count": 4,
   "id": "e702ec84",
   "metadata": {},
   "outputs": [
    {
     "name": "stdout",
     "output_type": "stream",
     "text": [
      "10\n",
      "15.2\n"
     ]
    }
   ],
   "source": [
    "#accessing elements within a list\n",
    "print(nums[1])  #will output the value at index 1=10\n",
    "num = nums[2]   #saves index value 2 into num\n",
    "print(num)      #prints value assigned to num"
   ]
  },
  {
   "cell_type": "code",
   "execution_count": 5,
   "id": "894e2b18",
   "metadata": {},
   "outputs": [
    {
     "name": "stdout",
     "output_type": "stream",
     "text": [
      "[4.3, 'word', True]\n"
     ]
    }
   ],
   "source": [
    "#declaring a list of mixed data types\n",
    "num = 4.3\n",
    "data = [num, \"word\", True]  #the power of data collection\n",
    "print(data)"
   ]
  },
  {
   "cell_type": "code",
   "execution_count": 6,
   "id": "2a62809a",
   "metadata": {},
   "outputs": [
    {
     "name": "stdout",
     "output_type": "stream",
     "text": [
      "[5, 'book', [34, 'hello'], True]\n",
      "[34, 'hello']\n"
     ]
    }
   ],
   "source": [
    "#understanding lists within lists\n",
    "data = [5, \"book\", [34, \"hello\"], True] #lists can hold any type\n",
    "print(data)\n",
    "print(data[2])"
   ]
  },
  {
   "cell_type": "code",
   "execution_count": 8,
   "id": "accf427d",
   "metadata": {},
   "outputs": [
    {
     "name": "stdout",
     "output_type": "stream",
     "text": [
      "34\n",
      "hello\n"
     ]
    }
   ],
   "source": [
    "#using double bracket notation to access lists within lists\n",
    "print(data [2][0])      #will output 34\n",
    "inner_list = data[2]    #inner list will equal [34, 'hello]\n",
    "print(inner_list[1])    #will output 'hello'"
   ]
  },
  {
   "cell_type": "code",
   "execution_count": 9,
   "id": "e0d2a89a",
   "metadata": {},
   "outputs": [
    {
     "name": "stdout",
     "output_type": "stream",
     "text": [
      "[5, 10, 15, 20]\n",
      "[100, 10, 15, 20]\n"
     ]
    }
   ],
   "source": [
    "#changing values in a list through index\n",
    "data = [5,10,15,20]\n",
    "print(data)\n",
    "data[0] = 100       #changing the value at index 0 - (5 to 100)\n",
    "print(data)"
   ]
  },
  {
   "cell_type": "code",
   "execution_count": 16,
   "id": "82a49b3b",
   "metadata": {},
   "outputs": [
    {
     "name": "stdout",
     "output_type": "stream",
     "text": [
      "a:[5, 10]\t b:[5, 10]\n",
      "Location a[0]:140708771801656\t Location b[0]:140708771801656\n",
      "a:[20, 10]\t b:[20, 10]\n"
     ]
    }
   ],
   "source": [
    "#understanding how lists are stored\n",
    "a = [5,10]\n",
    "b = a\n",
    "print(\"a:{}\\t b:{}\". format(a,b))\n",
    "print(\"Location a[0]:{}\\t Location b[0]:{}\".format(id(a[0]),id(b[0])))\n",
    "a[0]=20     #re-declaring the value of a[0] also changes b[0]\n",
    "print(\"a:{}\\t b:{}\". format(a,b))\n"
   ]
  },
  {
   "cell_type": "code",
   "execution_count": 17,
   "id": "adb393ac",
   "metadata": {},
   "outputs": [
    {
     "name": "stdout",
     "output_type": "stream",
     "text": [
      "data:[50, 10, 15, 20]\t data_copy:[5, 10, 15, 20]\n"
     ]
    }
   ],
   "source": [
    "#using [:] to copy a list\n",
    "data = [5,10,15,20]\n",
    "data_copy = data[:]     #a single colon copies the list\n",
    "data[0] = 50\n",
    "print(\"data:{}\\t data_copy:{}\".format(data, data_copy))"
   ]
  },
  {
   "cell_type": "markdown",
   "id": "1d3a8463",
   "metadata": {},
   "source": [
    "For Loops"
   ]
  },
  {
   "cell_type": "code",
   "execution_count": 18,
   "id": "5ea294f7",
   "metadata": {},
   "outputs": [
    {
     "name": "stdout",
     "output_type": "stream",
     "text": [
      "Value:0\n",
      "Value:1\n",
      "Value:2\n",
      "Value:3\n",
      "Value:4\n"
     ]
    }
   ],
   "source": [
    "#writing your first loop using range\n",
    "for num in range(5):\n",
    "    print(\"Value:{}\".format(num))"
   ]
  },
  {
   "cell_type": "code",
   "execution_count": 19,
   "id": "2d915d26",
   "metadata": {},
   "outputs": [
    {
     "name": "stdout",
     "output_type": "stream",
     "text": [
      "Value:2\n",
      "Value:4\n",
      "Value:6\n",
      "Value:8\n"
     ]
    }
   ],
   "source": [
    "#providing the start, stop, and step for the range function\n",
    "for num in range(2,10,2):\n",
    "    print(\"Value:{}\".format(num))   #will print all evens between 2 and 10"
   ]
  },
  {
   "cell_type": "code",
   "execution_count": 20,
   "id": "b5758f0c",
   "metadata": {},
   "outputs": [
    {
     "name": "stdout",
     "output_type": "stream",
     "text": [
      "Value:J\n",
      "Value:o\n",
      "Value:h\n",
      "Value:n\n",
      "Value: \n",
      "Value:S\n",
      "Value:m\n",
      "Value:i\n",
      "Value:t\n",
      "Value:h\n"
     ]
    }
   ],
   "source": [
    "#printing all characters in a name using the 'in' keyword\n",
    "name = \"John Smith\"\n",
    "for letter in name:\n",
    "    print(\"Value:{}\".format(letter))"
   ]
  },
  {
   "cell_type": "code",
   "execution_count": 21,
   "id": "37d71cca",
   "metadata": {},
   "outputs": [
    {
     "name": "stdout",
     "output_type": "stream",
     "text": [
      "0\n",
      "1\n",
      "2\n",
      "4\n"
     ]
    }
   ],
   "source": [
    "#using the continue statement within the for loop\n",
    "for num in range(5):\n",
    "    if num == 3:\n",
    "        continue\n",
    "    print(num)"
   ]
  },
  {
   "cell_type": "code",
   "execution_count": 22,
   "id": "6afa68f3",
   "metadata": {},
   "outputs": [
    {
     "name": "stdout",
     "output_type": "stream",
     "text": [
      "0\n",
      "1\n",
      "2\n"
     ]
    }
   ],
   "source": [
    "# breaking out of a loop using the 'break' keyword\n",
    "for num in range(5):\n",
    "    if num == 3:\n",
    "        break\n",
    "    print(num)"
   ]
  },
  {
   "cell_type": "code",
   "execution_count": 23,
   "id": "10ae3c02",
   "metadata": {},
   "outputs": [],
   "source": [
    "# setting a placeholder using the 'pass' keyword\n",
    "for i in range(5):\n",
    "    # TODO: add code to print number\n",
    "    pass"
   ]
  },
  {
   "cell_type": "markdown",
   "id": "190b20ca",
   "metadata": {},
   "source": [
    "While loops"
   ]
  },
  {
   "cell_type": "code",
   "execution_count": 24,
   "id": "c10a2b01",
   "metadata": {},
   "outputs": [
    {
     "name": "stdout",
     "output_type": "stream",
     "text": [
      "10\n",
      "9\n",
      "8\n",
      "7\n",
      "6\n",
      "5\n",
      "4\n",
      "3\n",
      "2\n",
      "1\n"
     ]
    }
   ],
   "source": [
    "#writing your first while loop\n",
    "health = 10\n",
    "while health>0:\n",
    "    print(health)\n",
    "    health -=1 #forgetting this line will result in infinite loop"
   ]
  },
  {
   "cell_type": "code",
   "execution_count": 27,
   "id": "98ea4472",
   "metadata": {},
   "outputs": [
    {
     "name": "stdout",
     "output_type": "stream",
     "text": [
      "0 0\n",
      "0 1\n",
      "0 2\n",
      "1 0\n",
      "1 1\n",
      "1 2\n"
     ]
    }
   ],
   "source": [
    "# using two or more loops together is called a nested loop\n",
    "for i in range(2):      #outside loop\n",
    "    for j in range(3):  #inside loop\n",
    "        print( i, j )"
   ]
  },
  {
   "cell_type": "markdown",
   "id": "099eff46",
   "metadata": {},
   "source": [
    "Friday Project:Creating Hangman"
   ]
  },
  {
   "cell_type": "code",
   "execution_count": null,
   "id": "b344441d",
   "metadata": {},
   "outputs": [
    {
     "ename": "ModuleNotFoundError",
     "evalue": "No module named 'Ipython'",
     "output_type": "error",
     "traceback": [
      "\u001b[1;31m---------------------------------------------------------------------------\u001b[0m",
      "\u001b[1;31mModuleNotFoundError\u001b[0m                       Traceback (most recent call last)",
      "Cell \u001b[1;32mIn[38], line 3\u001b[0m\n\u001b[0;32m      1\u001b[0m \u001b[38;5;66;03m#import additional functions\u001b[39;00m\n\u001b[0;32m      2\u001b[0m \u001b[38;5;28;01mfrom\u001b[39;00m \u001b[38;5;21;01mrandom\u001b[39;00m \u001b[38;5;28;01mimport\u001b[39;00m choice\n\u001b[1;32m----> 3\u001b[0m \u001b[38;5;28;01mfrom\u001b[39;00m \u001b[38;5;21;01mIpython\u001b[39;00m\u001b[38;5;21;01m.\u001b[39;00m\u001b[38;5;21;01mdisplay\u001b[39;00m \u001b[38;5;28;01mimport\u001b[39;00m clear_output\n\u001b[0;32m      5\u001b[0m \u001b[38;5;66;03m#declare game variables\u001b[39;00m\n\u001b[0;32m      6\u001b[0m words \u001b[38;5;241m=\u001b[39m [\u001b[38;5;124m\"\u001b[39m\u001b[38;5;124mtree\u001b[39m\u001b[38;5;124m\"\u001b[39m, \u001b[38;5;124m\"\u001b[39m\u001b[38;5;124mbasket\u001b[39m\u001b[38;5;124m\"\u001b[39m, \u001b[38;5;124m\"\u001b[39m\u001b[38;5;124mchair\u001b[39m\u001b[38;5;124m\"\u001b[39m, \u001b[38;5;124m\"\u001b[39m\u001b[38;5;124mpaper\u001b[39m\u001b[38;5;124m\"\u001b[39m, \u001b[38;5;124m\"\u001b[39m\u001b[38;5;124mphyton\u001b[39m\u001b[38;5;124m\"\u001b[39m]\n",
      "\u001b[1;31mModuleNotFoundError\u001b[0m: No module named 'Ipython'"
     ]
    }
   ],
   "source": [
    "#import additional functions\n",
    "from random import choice\n",
    "from Ipython.display import clear_output\n",
    "\n",
    "#declare game variables\n",
    "words = [\"tree\", \"basket\", \"chair\", \"paper\", \"phyton\"]\n",
    "word = choice(words)    #randomly chooses a word from words list\n",
    "guessed, lives, game_over = [],7,False  #multi variable assigment\n",
    "\n",
    "#create list of underscores to the length of the word\n",
    "guesses = [\"_\"] * len(word)\n",
    "\n",
    "#create main game loop\n",
    "while not game_over:\n",
    "    ans = input(\"Type quit or guess a letter: \").lower()\n",
    "    if ans == \"quit\":\n",
    "        print(\"Thanks for playing.\")\n",
    "    game_over = True\n",
    "\n",
    "#NOT FINISHED"
   ]
  }
 ],
 "metadata": {
  "kernelspec": {
   "display_name": "bootcamp",
   "language": "python",
   "name": "python3"
  },
  "language_info": {
   "codemirror_mode": {
    "name": "ipython",
    "version": 3
   },
   "file_extension": ".py",
   "mimetype": "text/x-python",
   "name": "python",
   "nbconvert_exporter": "python",
   "pygments_lexer": "ipython3",
   "version": "3.12.9"
  }
 },
 "nbformat": 4,
 "nbformat_minor": 5
}
