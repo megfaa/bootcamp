{
 "cells": [
  {
   "cell_type": "code",
   "execution_count": 19,
   "id": "3a63415c",
   "metadata": {},
   "outputs": [
    {
     "name": "stdout",
     "output_type": "stream",
     "text": [
      "**************************************************\n",
      "\t\tCoding Temple, Inc.\n",
      "\t\t283 Franklin St.\n",
      "\t\tBoston, MA\n",
      "==================================================\n",
      "\tProduct Name\tProduct Price\n",
      "\tBooks\t\t$49.95\n",
      "\tComputer\t$579.99\n",
      "\tMonitor\t\t$124.89\n",
      "==================================================\n",
      "\t\t\t$754.83\n",
      "==================================================\n",
      "\tThanks for shopping with us today!\n",
      "==================================================\n"
     ]
    }
   ],
   "source": [
    "#create a product and price for three items\n",
    "p1_name, p1_price = \"Books\", 49.95\n",
    "p2_name, p2_price = \"Computer\", 579.99\n",
    "p3_name, p3_price = \"Monitor\", 124.89\n",
    "#create a company name and information \n",
    "company_name = \"coding temple, inc.\"\n",
    "company_address = \"283 Franklin St.\"\n",
    "company_city = \"Boston, MA\"\n",
    "#declare ending message\n",
    "message = \"Thanks for shopping with us today!\"\n",
    "#create a top border\n",
    "print(\"*\" * 50)\n",
    "#print company information first, using format\n",
    "print (\"\\t\\t{}\".format(company_name.title()))\n",
    "print (\"\\t\\t{}\".format(company_address))\n",
    "print (\"\\t\\t{}\".format(company_city))\n",
    "#print border\n",
    "print(\"=\" * 50)\n",
    "#print product name\n",
    "print(\"\\tProduct Name\\tProduct Price\")\n",
    "#create a print statement for each product\n",
    "print(\"\\t{}\\t\\t${}\".format(p1_name.title(), p1_price))\n",
    "print(\"\\t{}\\t${}\".format(p2_name.title(), p2_price))\n",
    "print(\"\\t{}\\t\\t${}\".format(p3_name.title(), p3_price))\n",
    "#print border\n",
    "print(\"=\" * 50)\n",
    "#calculate total price\n",
    "total = p1_price + p2_price + p3_price\n",
    "print(\"\\t\\t\\t${}\".format(total))\n",
    "#print border\n",
    "print(\"=\" * 50)\n",
    "#print end statement\n",
    "print(\"\\t{}\".format(message))\n",
    "#print end border\n",
    "print(\"=\" * 50)"
   ]
  }
 ],
 "metadata": {
  "kernelspec": {
   "display_name": "bootcamp",
   "language": "python",
   "name": "python3"
  },
  "language_info": {
   "codemirror_mode": {
    "name": "ipython",
    "version": 3
   },
   "file_extension": ".py",
   "mimetype": "text/x-python",
   "name": "python",
   "nbconvert_exporter": "python",
   "pygments_lexer": "ipython3",
   "version": "3.12.9"
  }
 },
 "nbformat": 4,
 "nbformat_minor": 5
}
