{
 "cells": [
  {
   "cell_type": "code",
   "execution_count": 4,
   "id": "f6db6ba3",
   "metadata": {},
   "outputs": [
    {
     "name": "stdout",
     "output_type": "stream",
     "text": [
      "You chose divide.\n",
      "You chose divide.\n",
      "Please keep in mind that the order of your numbers matter.\n",
      "First Number: 10\n",
      "Second Number: 20\n",
      "10.0 / 20.0 = 0.5\n"
     ]
    }
   ],
   "source": [
    "#step 1: ask user for calculation to be performed\n",
    "operation = input(\"Would you like to add/substract/multiply/divide?\").lower()\n",
    "print(\"You chose {}.\".format(operation)) #for testing purposes\n",
    "#step 2: ask for numbers, alert order matters for substracting and dividing\n",
    "if operation == \"substract\" or operation == \"divide\":\n",
    "    print (\"You chose {}.\".format(operation))\n",
    "    print (\"Please keep in mind that the order of your numbers matter.\")\n",
    "num1 = input(\"What is the first number?\")\n",
    "num2 = input(\"What is the second number?\")\n",
    "print(\"First Number: {}\".format(num1)) #for testing purposes\n",
    "print(\"Second Number: {}\".format(num2)) #for testing purposes\n",
    "#step 3: setup try/except for mathematical operation\n",
    "try:\n",
    "    #step 3a: immediately try to convert numbers input to floats\n",
    "    num1, num2 = float(num1), float(num2)\n",
    "    #step 3b: perform operation and print result\n",
    "    if operation == \"add\":\n",
    "        result = num1 + num2\n",
    "        print(\"{} + {} = {}\".format(num1, num2, result))\n",
    "    elif operation == \"substract\":\n",
    "        result = num1 - num2\n",
    "        print(\"{} - {} = {}\".format(num1, num2, result))\n",
    "    elif operation == \"multiply\":\n",
    "        result = num1 * num2\n",
    "        print(\"{} * {} = {}\".format(num1, num2, result))\n",
    "    elif operation == \"divide\":\n",
    "        result = num1 / num2\n",
    "        print(\"{} / {} = {}\".format(num1, num2, result))\n",
    "    else:\n",
    "        #else will be hit if they didn't choose an option correctly\n",
    "        print(\"Sorry, but '{}' is not an option.\".format(operation))\n",
    "except:\n",
    "    #step 3c: print error\n",
    "    print(\"Error: Improper numbers used. Please try again.\")"
   ]
  },
  {
   "cell_type": "code",
   "execution_count": null,
   "id": "fa63ab02",
   "metadata": {},
   "outputs": [],
   "source": []
  }
 ],
 "metadata": {
  "kernelspec": {
   "display_name": "bootcamp",
   "language": "python",
   "name": "python3"
  },
  "language_info": {
   "codemirror_mode": {
    "name": "ipython",
    "version": 3
   },
   "file_extension": ".py",
   "mimetype": "text/x-python",
   "name": "python",
   "nbconvert_exporter": "python",
   "pygments_lexer": "ipython3",
   "version": "3.12.9"
  }
 },
 "nbformat": 4,
 "nbformat_minor": 5
}
